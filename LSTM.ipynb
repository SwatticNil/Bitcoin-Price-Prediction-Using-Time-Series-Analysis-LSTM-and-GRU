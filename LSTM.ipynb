{
 "cells": [
  {
   "cell_type": "code",
   "execution_count": 19,
   "metadata": {},
   "outputs": [],
   "source": [
    "# Import modules and packages\n",
    "import numpy as np\n",
    "import pandas as pd\n",
    "import matplotlib.pyplot as plt\n",
    "import datetime as dt\n",
    "from datetime import datetime\n",
    "import numpy as np \n",
    "import pandas as pd \n",
    "import matplotlib.pyplot as plt\n",
    "from datetime import datetime\n",
    "from keras.models import Sequential\n",
    "from keras.layers import Dense, LSTM, Dropout, GRU\n",
    "from keras.layers import *\n",
    "from sklearn.preprocessing import MinMaxScaler\n",
    "from sklearn.metrics import mean_squared_error, mean_absolute_error\n",
    "from sklearn.model_selection import train_test_split\n",
    "from keras.callbacks import EarlyStopping\n",
    "from keras.optimizers import Adam, SGD\n",
    "from sklearn.preprocessing import MinMaxScaler\n",
    "import math\n",
    "\n",
    "from keras.callbacks import EarlyStopping, ReduceLROnPlateau, ModelCheckpoint, TensorBoard\n",
    "from sklearn.metrics import mean_squared_error, mean_absolute_error, explained_variance_score, r2_score \n",
    "%matplotlib inline"
   ]
  },
  {
   "cell_type": "code",
   "execution_count": 20,
   "metadata": {},
   "outputs": [
    {
     "name": "stdout",
     "output_type": "stream",
     "text": [
      "Training set shape == (2800, 7)\n",
      "All timestamps == 2800\n",
      "Featured selected: ['Open', 'High', 'Low', 'Close', 'Adj Close']\n"
     ]
    }
   ],
   "source": [
    "# Importing Training Set\n",
    "dataset_train = pd.read_csv('dataset2.csv')\n",
    "\n",
    "# Select features (columns) to be involved intro training and predictions\n",
    "cols = list(dataset_train)[1:6]\n",
    "\n",
    "# Extract dates (will be used in visualization)\n",
    "datelist_train = list(dataset_train['Date'])\n",
    "datelist_train = [dt.datetime.strptime(date, '%Y-%m-%d').date() for date in datelist_train]\n",
    "\n",
    "print('Training set shape == {}'.format(dataset_train.shape))\n",
    "print('All timestamps == {}'.format(len(datelist_train)))\n",
    "print('Featured selected: {}'.format(cols))"
   ]
  },
  {
   "cell_type": "code",
   "execution_count": 21,
   "metadata": {},
   "outputs": [
    {
     "name": "stdout",
     "output_type": "stream",
     "text": [
      "239       224.701004\n",
      "240       231.548996\n",
      "241       229.895004\n",
      "242       229.113998\n",
      "243       230.255997\n",
      "            ...     \n",
      "2795    20262.480469\n",
      "2796    20041.035156\n",
      "2797    19615.154297\n",
      "2798    20298.611328\n",
      "2799    19799.582031\n",
      "Name: Open, Length: 2561, dtype: float64\n"
     ]
    }
   ],
   "source": [
    "test=dataset_train.iloc[239:]['Open']\n",
    "print(test)"
   ]
  },
  {
   "cell_type": "code",
   "execution_count": 22,
   "metadata": {},
   "outputs": [
    {
     "name": "stdout",
     "output_type": "stream",
     "text": [
      "Shape of training set == (2800, 5).\n"
     ]
    },
    {
     "data": {
      "text/plain": [
       "array([[  320.434998,   320.434998,   314.002991,   314.248993,\n",
       "          314.248993],\n",
       "       [  314.07901 ,   315.838989,   313.565002,   315.032013,\n",
       "          315.032013],\n",
       "       [  314.846008,   315.149994,   281.082001,   281.082001,\n",
       "          281.082001],\n",
       "       ...,\n",
       "       [19615.154297, 20357.462891, 19600.785156, 20297.994141,\n",
       "        20297.994141],\n",
       "       [20298.611328, 20542.644531, 19617.640625, 19796.808594,\n",
       "        19796.808594],\n",
       "       [19799.582031, 20420.990234, 19799.582031, 20049.763672,\n",
       "        20049.763672]])"
      ]
     },
     "execution_count": 22,
     "metadata": {},
     "output_type": "execute_result"
    }
   ],
   "source": [
    "dataset_train = dataset_train[cols].astype(str)\n",
    "for i in cols:\n",
    "    for j in range(0, len(dataset_train)):\n",
    "        dataset_train[i][j] = dataset_train[i][j].replace(',', '')\n",
    "\n",
    "dataset_train = dataset_train.astype(float)\n",
    "\n",
    "# Using multiple features (predictors)\n",
    "training_set = dataset_train.to_numpy()\n",
    "\n",
    "print('Shape of training set == {}.'.format(training_set.shape))\n",
    "training_set"
   ]
  },
  {
   "cell_type": "code",
   "execution_count": 23,
   "metadata": {},
   "outputs": [
    {
     "data": {
      "text/plain": [
       "array([[-0.76843532],\n",
       "       [-0.76881797],\n",
       "       [-0.7687718 ],\n",
       "       ...,\n",
       "       [ 0.39317465],\n",
       "       [ 0.43432116],\n",
       "       [ 0.40427784]])"
      ]
     },
     "execution_count": 23,
     "metadata": {},
     "output_type": "execute_result"
    }
   ],
   "source": [
    "# Feature Scaling\n",
    "from sklearn.preprocessing import StandardScaler\n",
    "\n",
    "sc = StandardScaler()\n",
    "training_set_scaled = sc.fit_transform(training_set)\n",
    "\n",
    "sc_predict = StandardScaler()\n",
    "sc_predict.fit_transform(training_set[:, 0:1])"
   ]
  },
  {
   "cell_type": "code",
   "execution_count": 24,
   "metadata": {},
   "outputs": [
    {
     "name": "stdout",
     "output_type": "stream",
     "text": [
      "X_train shape == (2651, 90, 4).\n",
      "y_train shape == (2651, 1).\n"
     ]
    }
   ],
   "source": [
    "# Creating a data structure with 90 timestamps and 1 output\n",
    "X_train = []\n",
    "y_train = []\n",
    "\n",
    "n_future = 60   # Number of days we want top predict into the future\n",
    "n_past = 90     # Number of past days we want to use to predict the future\n",
    "\n",
    "for i in range(n_past, len(training_set_scaled) - n_future +1):\n",
    "    X_train.append(training_set_scaled[i - n_past:i, 0:dataset_train.shape[1] - 1])\n",
    "    y_train.append(training_set_scaled[i + n_future - 1:i + n_future, 0])\n",
    "\n",
    "X_train, y_train = np.array(X_train), np.array(y_train)\n",
    "\n",
    "print('X_train shape == {}.'.format(X_train.shape))\n",
    "print('y_train shape == {}.'.format(y_train.shape))"
   ]
  },
  {
   "cell_type": "code",
   "execution_count": 25,
   "metadata": {},
   "outputs": [
    {
     "name": "stdout",
     "output_type": "stream",
     "text": [
      "Model: \"sequential_2\"\n",
      "_________________________________________________________________\n",
      "Layer (type)                 Output Shape              Param #   \n",
      "=================================================================\n",
      "lstm_5 (LSTM)                (None, 90, 50)            11000     \n",
      "_________________________________________________________________\n",
      "dropout_5 (Dropout)          (None, 90, 50)            0         \n",
      "_________________________________________________________________\n",
      "lstm_6 (LSTM)                (None, 90, 50)            20200     \n",
      "_________________________________________________________________\n",
      "dropout_6 (Dropout)          (None, 90, 50)            0         \n",
      "_________________________________________________________________\n",
      "lstm_7 (LSTM)                (None, 90, 50)            20200     \n",
      "_________________________________________________________________\n",
      "dropout_7 (Dropout)          (None, 90, 50)            0         \n",
      "_________________________________________________________________\n",
      "lstm_8 (LSTM)                (None, 50)                20200     \n",
      "_________________________________________________________________\n",
      "dropout_8 (Dropout)          (None, 50)                0         \n",
      "_________________________________________________________________\n",
      "dense_2 (Dense)              (None, 1)                 51        \n",
      "=================================================================\n",
      "Total params: 71,651\n",
      "Trainable params: 71,651\n",
      "Non-trainable params: 0\n",
      "_________________________________________________________________\n"
     ]
    }
   ],
   "source": [
    "# Initializing the Recurrent Neural Network\n",
    "model = Sequential()\n",
    "#Adding the first LSTM layer with a sigmoid activation function and some Dropout regularization\n",
    "#Units - dimensionality of the output space\n",
    "\n",
    "model.add(LSTM(units = 50, return_sequences = True, input_shape = (X_train.shape[1], 4)))\n",
    "model.add(Dropout(0.2))\n",
    "\n",
    "model.add(LSTM(units = 50, return_sequences = True))\n",
    "model.add(Dropout(0.2))\n",
    "\n",
    "model.add(LSTM(units = 50, return_sequences = True))\n",
    "model.add(Dropout(0.2))\n",
    "\n",
    "model.add(LSTM(units = 50))\n",
    "model.add(Dropout(0.2))\n",
    "\n",
    "# Adding the output layer\n",
    "model.add(Dense(units = 1))\n",
    "model.summary()"
   ]
  },
  {
   "cell_type": "code",
   "execution_count": 26,
   "metadata": {},
   "outputs": [
    {
     "name": "stdout",
     "output_type": "stream",
     "text": [
      "Epoch 1/100\n",
      "2651/2651 [==============================] - 41s 15ms/step - loss: 0.5282\n",
      "Epoch 2/100\n",
      "2651/2651 [==============================] - 40s 15ms/step - loss: 0.2090\n",
      "Epoch 3/100\n",
      "2651/2651 [==============================] - 30s 11ms/step - loss: 0.1867\n",
      "Epoch 4/100\n",
      "2651/2651 [==============================] - 29s 11ms/step - loss: 0.1809\n",
      "Epoch 5/100\n",
      "2651/2651 [==============================] - 31s 12ms/step - loss: 0.1714\n",
      "Epoch 6/100\n",
      "2651/2651 [==============================] - 28s 11ms/step - loss: 0.1703\n",
      "Epoch 7/100\n",
      "2651/2651 [==============================] - 33s 13ms/step - loss: 0.1690\n",
      "Epoch 8/100\n",
      "2651/2651 [==============================] - 25s 10ms/step - loss: 0.1634\n",
      "Epoch 9/100\n",
      "2651/2651 [==============================] - 25s 10ms/step - loss: 0.1586\n",
      "Epoch 10/100\n",
      "2651/2651 [==============================] - 25s 9ms/step - loss: 0.1593\n",
      "Epoch 11/100\n",
      "2651/2651 [==============================] - 24s 9ms/step - loss: 0.1608\n",
      "Epoch 12/100\n",
      "2651/2651 [==============================] - 22s 8ms/step - loss: 0.1567\n",
      "Epoch 13/100\n",
      "2651/2651 [==============================] - 22s 8ms/step - loss: 0.1319\n",
      "Epoch 14/100\n",
      "2651/2651 [==============================] - 22s 8ms/step - loss: 0.1350\n",
      "Epoch 15/100\n",
      "2651/2651 [==============================] - 25s 9ms/step - loss: 0.1182\n",
      "Epoch 16/100\n",
      "2651/2651 [==============================] - 25s 9ms/step - loss: 0.1180\n",
      "Epoch 17/100\n",
      "2651/2651 [==============================] - 24s 9ms/step - loss: 0.1287\n",
      "Epoch 18/100\n",
      "2651/2651 [==============================] - 24s 9ms/step - loss: 0.1184\n",
      "Epoch 19/100\n",
      "2651/2651 [==============================] - 24s 9ms/step - loss: 0.1034\n",
      "Epoch 20/100\n",
      "2651/2651 [==============================] - 24s 9ms/step - loss: 0.0938\n",
      "Epoch 21/100\n",
      "2651/2651 [==============================] - 24s 9ms/step - loss: 0.0896\n",
      "Epoch 22/100\n",
      "2651/2651 [==============================] - 24s 9ms/step - loss: 0.0851\n",
      "Epoch 23/100\n",
      "2651/2651 [==============================] - 24s 9ms/step - loss: 0.0908\n",
      "Epoch 24/100\n",
      "2651/2651 [==============================] - 24s 9ms/step - loss: 0.0873\n",
      "Epoch 25/100\n",
      "2651/2651 [==============================] - 27s 10ms/step - loss: 0.0871\n",
      "Epoch 26/100\n",
      "2651/2651 [==============================] - 25s 9ms/step - loss: 0.0833\n",
      "Epoch 27/100\n",
      "2651/2651 [==============================] - 24s 9ms/step - loss: 0.0768\n",
      "Epoch 28/100\n",
      "2651/2651 [==============================] - 25s 9ms/step - loss: 0.0727\n",
      "Epoch 29/100\n",
      "2651/2651 [==============================] - 26s 10ms/step - loss: 0.0749\n",
      "Epoch 30/100\n",
      "2651/2651 [==============================] - 25s 9ms/step - loss: 0.0726\n",
      "Epoch 31/100\n",
      "2651/2651 [==============================] - 24s 9ms/step - loss: 0.0756\n",
      "Epoch 32/100\n",
      "2651/2651 [==============================] - 25s 9ms/step - loss: 0.0692\n",
      "Epoch 33/100\n",
      "2651/2651 [==============================] - 24s 9ms/step - loss: 0.0644\n",
      "Epoch 34/100\n",
      "2651/2651 [==============================] - 24s 9ms/step - loss: 0.0624\n",
      "Epoch 35/100\n",
      "2651/2651 [==============================] - 24s 9ms/step - loss: 0.0673\n",
      "Epoch 36/100\n",
      "2651/2651 [==============================] - 25s 9ms/step - loss: 0.0623\n",
      "Epoch 37/100\n",
      "2651/2651 [==============================] - 24s 9ms/step - loss: 0.0586\n",
      "Epoch 38/100\n",
      "2651/2651 [==============================] - 24s 9ms/step - loss: 0.0605\n",
      "Epoch 39/100\n",
      "2651/2651 [==============================] - 24s 9ms/step - loss: 0.0634\n",
      "Epoch 40/100\n",
      "2651/2651 [==============================] - 24s 9ms/step - loss: 0.0663\n",
      "Epoch 41/100\n",
      "2651/2651 [==============================] - 24s 9ms/step - loss: 0.0705\n",
      "Epoch 42/100\n",
      "2651/2651 [==============================] - 24s 9ms/step - loss: 0.0548\n",
      "Epoch 43/100\n",
      "2651/2651 [==============================] - 26s 10ms/step - loss: 0.0459\n",
      "Epoch 44/100\n",
      "2651/2651 [==============================] - 25s 9ms/step - loss: 0.0474\n",
      "Epoch 45/100\n",
      "2651/2651 [==============================] - 25s 9ms/step - loss: 0.0741\n",
      "Epoch 46/100\n",
      "2651/2651 [==============================] - 25s 10ms/step - loss: 0.0889\n",
      "Epoch 47/100\n",
      "2651/2651 [==============================] - 24s 9ms/step - loss: 0.1589\n",
      "Epoch 48/100\n",
      "2651/2651 [==============================] - 25s 9ms/step - loss: 0.1297\n",
      "Epoch 49/100\n",
      "2651/2651 [==============================] - 24s 9ms/step - loss: 0.1172\n",
      "Epoch 50/100\n",
      "2651/2651 [==============================] - 24s 9ms/step - loss: 0.0947\n",
      "Epoch 51/100\n",
      "2651/2651 [==============================] - 24s 9ms/step - loss: 0.0871\n",
      "Epoch 52/100\n",
      "2651/2651 [==============================] - 24s 9ms/step - loss: 0.0989\n",
      "Epoch 53/100\n",
      "2651/2651 [==============================] - 26s 10ms/step - loss: 0.1091\n",
      "Epoch 54/100\n",
      "2651/2651 [==============================] - 24s 9ms/step - loss: 0.0874\n",
      "Epoch 55/100\n",
      "2651/2651 [==============================] - 24s 9ms/step - loss: 0.0769\n",
      "Epoch 56/100\n",
      "2651/2651 [==============================] - 25s 9ms/step - loss: 0.0723\n",
      "Epoch 57/100\n",
      "2651/2651 [==============================] - 24s 9ms/step - loss: 0.0706\n",
      "Epoch 58/100\n",
      "2651/2651 [==============================] - 24s 9ms/step - loss: 0.0668\n",
      "Epoch 59/100\n",
      "2651/2651 [==============================] - 24s 9ms/step - loss: 0.0950\n",
      "Epoch 60/100\n",
      "2651/2651 [==============================] - 24s 9ms/step - loss: 0.0956\n",
      "Epoch 61/100\n",
      "2651/2651 [==============================] - 24s 9ms/step - loss: 0.0940\n",
      "Epoch 62/100\n",
      "2651/2651 [==============================] - 24s 9ms/step - loss: 0.0881\n",
      "Epoch 63/100\n",
      "2651/2651 [==============================] - 24s 9ms/step - loss: 0.0860\n",
      "Epoch 64/100\n",
      "2651/2651 [==============================] - 24s 9ms/step - loss: 0.0784\n",
      "Epoch 65/100\n",
      "2651/2651 [==============================] - 24s 9ms/step - loss: 0.0658\n",
      "Epoch 66/100\n",
      "2651/2651 [==============================] - 27s 10ms/step - loss: 0.0605\n",
      "Epoch 67/100\n",
      "2651/2651 [==============================] - 24s 9ms/step - loss: 0.0604\n",
      "Epoch 68/100\n",
      "2651/2651 [==============================] - 24s 9ms/step - loss: 0.0844\n",
      "Epoch 69/100\n",
      "2651/2651 [==============================] - 24s 9ms/step - loss: 0.0476\n",
      "Epoch 70/100\n",
      "2651/2651 [==============================] - 24s 9ms/step - loss: 0.0484\n",
      "Epoch 71/100\n",
      "2651/2651 [==============================] - 25s 9ms/step - loss: 0.0374\n",
      "Epoch 72/100\n",
      "2651/2651 [==============================] - 24s 9ms/step - loss: 0.0333\n",
      "Epoch 73/100\n",
      "2651/2651 [==============================] - 24s 9ms/step - loss: 0.0327\n",
      "Epoch 74/100\n",
      "2651/2651 [==============================] - 24s 9ms/step - loss: 0.0310\n",
      "Epoch 75/100\n",
      "2651/2651 [==============================] - 24s 9ms/step - loss: 0.0302\n",
      "Epoch 76/100\n",
      "2651/2651 [==============================] - 24s 9ms/step - loss: 0.0299\n",
      "Epoch 77/100\n",
      "2651/2651 [==============================] - 25s 9ms/step - loss: 0.0279\n",
      "Epoch 78/100\n",
      "2651/2651 [==============================] - 24s 9ms/step - loss: 0.0270\n",
      "Epoch 79/100\n",
      "2651/2651 [==============================] - 24s 9ms/step - loss: 0.0269\n",
      "Epoch 80/100\n",
      "2651/2651 [==============================] - 21s 8ms/step - loss: 0.0264\n",
      "Epoch 81/100\n",
      "2651/2651 [==============================] - 17s 6ms/step - loss: 0.0259\n",
      "Epoch 82/100\n",
      "2651/2651 [==============================] - 17s 6ms/step - loss: 0.0320\n",
      "Epoch 83/100\n",
      "2651/2651 [==============================] - 17s 6ms/step - loss: 0.0290\n",
      "Epoch 84/100\n",
      "2651/2651 [==============================] - 16s 6ms/step - loss: 0.0252\n",
      "Epoch 85/100\n",
      "2651/2651 [==============================] - 17s 6ms/step - loss: 0.0247\n",
      "Epoch 86/100\n",
      "2651/2651 [==============================] - 17s 6ms/step - loss: 0.0234\n",
      "Epoch 87/100\n",
      "2651/2651 [==============================] - 17s 6ms/step - loss: 0.0235\n",
      "Epoch 88/100\n",
      "2651/2651 [==============================] - 19s 7ms/step - loss: 0.0216\n",
      "Epoch 89/100\n",
      "2651/2651 [==============================] - 20s 7ms/step - loss: 0.0248\n",
      "Epoch 90/100\n",
      "2651/2651 [==============================] - 18s 7ms/step - loss: 0.0236\n",
      "Epoch 91/100\n",
      "2651/2651 [==============================] - 17s 7ms/step - loss: 0.0224\n",
      "Epoch 92/100\n",
      "2651/2651 [==============================] - 18s 7ms/step - loss: 0.0228\n",
      "Epoch 93/100\n",
      "2651/2651 [==============================] - 18s 7ms/step - loss: 0.0225\n",
      "Epoch 94/100\n",
      "2651/2651 [==============================] - 16s 6ms/step - loss: 0.0212\n",
      "Epoch 95/100\n",
      "2651/2651 [==============================] - 17s 6ms/step - loss: 0.0222\n",
      "Epoch 96/100\n"
     ]
    },
    {
     "name": "stdout",
     "output_type": "stream",
     "text": [
      "2651/2651 [==============================] - 17s 6ms/step - loss: 0.0236\n",
      "Epoch 97/100\n",
      "2651/2651 [==============================] - 17s 6ms/step - loss: 0.0222\n",
      "Epoch 98/100\n",
      "2651/2651 [==============================] - 17s 6ms/step - loss: 0.0224\n",
      "Epoch 99/100\n",
      "2651/2651 [==============================] - 17s 6ms/step - loss: 0.0217\n",
      "Epoch 100/100\n",
      "2651/2651 [==============================] - 17s 6ms/step - loss: 0.0213\n"
     ]
    }
   ],
   "source": [
    "model.compile(optimizer = 'adam', loss = 'mean_squared_error')\n",
    "model.fit(X_train, y_train, epochs = 100, batch_size = 300);"
   ]
  },
  {
   "cell_type": "code",
   "execution_count": 27,
   "metadata": {},
   "outputs": [],
   "source": [
    "# Generate list of sequence of days for predictions\n",
    "datelist_future = pd.date_range(datelist_train[-1], periods=n_future, freq='1d').tolist()\n",
    "\n",
    "# Convert Pandas Timestamp to Datetime object (for transformation) --> FUTURE\n",
    "datelist_future_ = []\n",
    "for this_timestamp in datelist_future:\n",
    "    datelist_future_.append(this_timestamp.date())"
   ]
  },
  {
   "cell_type": "code",
   "execution_count": 28,
   "metadata": {},
   "outputs": [],
   "source": [
    "# Perform predictions\n",
    "predictions_future = model.predict(X_train[-n_future:])\n",
    "\n",
    "predictions_train = model.predict(X_train[n_past:])"
   ]
  },
  {
   "cell_type": "code",
   "execution_count": 29,
   "metadata": {},
   "outputs": [
    {
     "data": {
      "text/html": [
       "<div>\n",
       "<style scoped>\n",
       "    .dataframe tbody tr th:only-of-type {\n",
       "        vertical-align: middle;\n",
       "    }\n",
       "\n",
       "    .dataframe tbody tr th {\n",
       "        vertical-align: top;\n",
       "    }\n",
       "\n",
       "    .dataframe thead th {\n",
       "        text-align: right;\n",
       "    }\n",
       "</style>\n",
       "<table border=\"1\" class=\"dataframe\">\n",
       "  <thead>\n",
       "    <tr style=\"text-align: right;\">\n",
       "      <th></th>\n",
       "      <th>Open</th>\n",
       "    </tr>\n",
       "  </thead>\n",
       "  <tbody>\n",
       "    <tr>\n",
       "      <th>2015-08-28</th>\n",
       "      <td>627.520569</td>\n",
       "    </tr>\n",
       "    <tr>\n",
       "      <th>2015-08-29</th>\n",
       "      <td>627.905334</td>\n",
       "    </tr>\n",
       "    <tr>\n",
       "      <th>2015-08-30</th>\n",
       "      <td>628.327209</td>\n",
       "    </tr>\n",
       "  </tbody>\n",
       "</table>\n",
       "</div>"
      ],
      "text/plain": [
       "                  Open\n",
       "2015-08-28  627.520569\n",
       "2015-08-29  627.905334\n",
       "2015-08-30  628.327209"
      ]
     },
     "execution_count": 29,
     "metadata": {},
     "output_type": "execute_result"
    }
   ],
   "source": [
    "# Inverse the predictions to original measurements\n",
    "\n",
    "# ---> Special function: convert <datetime.date> to <Timestamp>\n",
    "def datetime_to_timestamp(x):\n",
    "    return datetime.strptime(x.strftime('%Y%m%d'), '%Y%m%d')\n",
    "\n",
    "\n",
    "y_pred_future = sc_predict.inverse_transform(predictions_future)\n",
    "y_pred_train = sc_predict.inverse_transform(predictions_train)\n",
    "\n",
    "PREDICTIONS_FUTURE = pd.DataFrame(y_pred_future, columns=['Open']).set_index(pd.Series(datelist_future))\n",
    "PREDICTION_TRAIN = pd.DataFrame(y_pred_train, columns=['Open']).set_index(pd.Series(datelist_train[2 * n_past + n_future -1:]))\n",
    "\n",
    "# Convert <datetime.date> to <Timestamp> for PREDCITION_TRAIN\n",
    "PREDICTION_TRAIN.index = PREDICTION_TRAIN.index.to_series().apply(datetime_to_timestamp)\n",
    "\n",
    "PREDICTION_TRAIN.head(3)"
   ]
  },
  {
   "cell_type": "code",
   "execution_count": 30,
   "metadata": {},
   "outputs": [
    {
     "data": {
      "image/png": "[encoded data removed]",
      "text/plain": [
       "<Figure size 1008x360 with 1 Axes>"
      ]
     },
     "metadata": {
      "needs_background": "light"
     },
     "output_type": "display_data"
    }
   ],
   "source": [
    "# Set plot size \n",
    "from pylab import rcParams\n",
    "rcParams['figure.figsize'] = 14, 5\n",
    "\n",
    "# Plot parameters\n",
    "START_DATE_FOR_PLOTTING = '2015-08-28'\n",
    "\n",
    "plt.plot(PREDICTIONS_FUTURE.index, PREDICTIONS_FUTURE['Open'], color='r', label='Predicted Stock Price')\n",
    "plt.plot(PREDICTION_TRAIN.index, PREDICTION_TRAIN.loc[START_DATE_FOR_PLOTTING:]['Open'], color='orange', label='Training predictions')\n",
    "plt.plot(datelist_train, dataset_train['Open'], color='b', label='Actual Stock Price')\n",
    "\n",
    "plt.axvline(x = min(PREDICTIONS_FUTURE.index), color='green', linewidth=2, linestyle='--')\n",
    "\n",
    "plt.grid(which='major', color='#cccccc', alpha=0.5)\n",
    "\n",
    "# plt.legend(shadow=True)\n",
    "# plt.title('Predcitions and Acutal Stock Prices', family='Arial', fontsize=12)\n",
    "# plt.xlabel('Timeline', family='Arial', fontsize=10)\n",
    "# plt.ylabel('Stock Price Value', family='Arial', fontsize=10)\n",
    "# plt.xticks(rotation=45, fontsize=8)\n",
    "plt.show()"
   ]
  },
  {
   "cell_type": "code",
   "execution_count": 31,
   "metadata": {},
   "outputs": [
    {
     "name": "stdout",
     "output_type": "stream",
     "text": [
      "MSE: 3646280.3204633966\n",
      "MAE: 1303.6246786220108\n",
      "RMSE: 1909.5235846837286\n"
     ]
    }
   ],
   "source": [
    "pred = np.array(PREDICTION_TRAIN[\"Open\"])\n",
    "diff = pred - test\n",
    "diffLSTM=list(diff)[1:]\n",
    "diffLSTM=np.array(diffLSTM)\n",
    "print(\"MSE:\", np.mean(diffLSTM**2))\n",
    "print(\"MAE:\", np.mean(abs(diffLSTM)))\n",
    "print(\"RMSE:\", np.sqrt(np.mean(diffLSTM**2)))"
   ]
  },
  {
   "cell_type": "code",
   "execution_count": 32,
   "metadata": {},
   "outputs": [
    {
     "data": {
      "text/html": [
       "<div>\n",
       "<style scoped>\n",
       "    .dataframe tbody tr th:only-of-type {\n",
       "        vertical-align: middle;\n",
       "    }\n",
       "\n",
       "    .dataframe tbody tr th {\n",
       "        vertical-align: top;\n",
       "    }\n",
       "\n",
       "    .dataframe thead th {\n",
       "        text-align: right;\n",
       "    }\n",
       "</style>\n",
       "<table border=\"1\" class=\"dataframe\">\n",
       "  <thead>\n",
       "    <tr style=\"text-align: right;\">\n",
       "      <th></th>\n",
       "      <th>Open</th>\n",
       "    </tr>\n",
       "  </thead>\n",
       "  <tbody>\n",
       "    <tr>\n",
       "      <th>2015-08-28</th>\n",
       "      <td>627.520569</td>\n",
       "    </tr>\n",
       "    <tr>\n",
       "      <th>2015-08-29</th>\n",
       "      <td>627.905334</td>\n",
       "    </tr>\n",
       "    <tr>\n",
       "      <th>2015-08-30</th>\n",
       "      <td>628.327209</td>\n",
       "    </tr>\n",
       "    <tr>\n",
       "      <th>2015-08-31</th>\n",
       "      <td>628.792053</td>\n",
       "    </tr>\n",
       "    <tr>\n",
       "      <th>2015-09-01</th>\n",
       "      <td>629.296936</td>\n",
       "    </tr>\n",
       "    <tr>\n",
       "      <th>...</th>\n",
       "      <td>...</td>\n",
       "    </tr>\n",
       "    <tr>\n",
       "      <th>2022-08-27</th>\n",
       "      <td>19970.326172</td>\n",
       "    </tr>\n",
       "    <tr>\n",
       "      <th>2022-08-28</th>\n",
       "      <td>19868.234375</td>\n",
       "    </tr>\n",
       "    <tr>\n",
       "      <th>2022-08-29</th>\n",
       "      <td>19772.646484</td>\n",
       "    </tr>\n",
       "    <tr>\n",
       "      <th>2022-08-30</th>\n",
       "      <td>19674.138672</td>\n",
       "    </tr>\n",
       "    <tr>\n",
       "      <th>2022-08-31</th>\n",
       "      <td>19571.357422</td>\n",
       "    </tr>\n",
       "  </tbody>\n",
       "</table>\n",
       "<p>2561 rows × 1 columns</p>\n",
       "</div>"
      ],
      "text/plain": [
       "                    Open\n",
       "2015-08-28    627.520569\n",
       "2015-08-29    627.905334\n",
       "2015-08-30    628.327209\n",
       "2015-08-31    628.792053\n",
       "2015-09-01    629.296936\n",
       "...                  ...\n",
       "2022-08-27  19970.326172\n",
       "2022-08-28  19868.234375\n",
       "2022-08-29  19772.646484\n",
       "2022-08-30  19674.138672\n",
       "2022-08-31  19571.357422\n",
       "\n",
       "[2561 rows x 1 columns]"
      ]
     },
     "execution_count": 32,
     "metadata": {},
     "output_type": "execute_result"
    }
   ],
   "source": [
    "PREDICTION_TRAIN"
   ]
  },
  {
   "cell_type": "code",
   "execution_count": 33,
   "metadata": {},
   "outputs": [
    {
     "data": {
      "text/plain": [
       "239       224.701004\n",
       "240       231.548996\n",
       "241       229.895004\n",
       "242       229.113998\n",
       "243       230.255997\n",
       "            ...     \n",
       "2795    20262.480469\n",
       "2796    20041.035156\n",
       "2797    19615.154297\n",
       "2798    20298.611328\n",
       "2799    19799.582031\n",
       "Name: Open, Length: 2561, dtype: float64"
      ]
     },
     "execution_count": 33,
     "metadata": {},
     "output_type": "execute_result"
    }
   ],
   "source": [
    "test"
   ]
  },
  {
   "cell_type": "code",
   "execution_count": 34,
   "metadata": {},
   "outputs": [],
   "source": [
    "pred=[]\n",
    "for val in PREDICTION_TRAIN['Open']:\n",
    "  pred.append(val)"
   ]
  },
  {
   "cell_type": "code",
   "execution_count": 35,
   "metadata": {},
   "outputs": [
    {
     "name": "stdout",
     "output_type": "stream",
     "text": [
      "Percentage of Error  24.609710342352635 %\n"
     ]
    }
   ],
   "source": [
    "testValues=[]\n",
    "percentageError=[]\n",
    "\n",
    "for val in test:\n",
    "  testValues.append(val)\n",
    "\n",
    "for idx in range(len(testValues)):\n",
    "  diff=abs(float(pred[idx])-float(testValues[idx]))\n",
    "  percentageError.append(diff/float(testValues[idx]))\n",
    "\n",
    "\n",
    "sum=0\n",
    "for val in percentageError:\n",
    "  sum+=val\n",
    "\n",
    "print(\"Percentage of Error \",100*sum/len(percentageError),'%')"
   ]
  },
  {
   "cell_type": "code",
   "execution_count": 36,
   "metadata": {},
   "outputs": [
    {
     "name": "stdout",
     "output_type": "stream",
     "text": [
      "MSE:  1909.1896495194328\n",
      "Mean Absolute Error:  1303.2030436399843\n",
      "R2 Score:  0.9872035173000032\n"
     ]
    }
   ],
   "source": [
    "pred=[]\n",
    "for val in PREDICTION_TRAIN['Open']:\n",
    "  pred.append(val)\n",
    "for i in range(len(pred)):\n",
    "  pred[i]=int(pred[i])\n",
    "\n",
    "testValues=[]\n",
    "for val in test:\n",
    "  testValues.append(float(val))\n",
    "\n",
    "from sklearn.metrics import accuracy_score\n",
    "from sklearn.metrics import mean_squared_error, mean_absolute_error\n",
    "from sklearn.metrics import r2_score\n",
    "\n",
    "print('MSE: ',np.sqrt(mean_squared_error(testValues, pred)))\n",
    "print(\"Mean Absolute Error: \",mean_absolute_error(testValues, pred))\n",
    "print(\"R2 Score: \",r2_score(testValues, pred))"
   ]
  },
  {
   "cell_type": "code",
   "execution_count": null,
   "metadata": {},
   "outputs": [],
   "source": []
  }
 ],
 "metadata": {
  "kernelspec": {
   "display_name": "Python 3",
   "language": "python",
   "name": "python3"
  },
  "language_info": {
   "codemirror_mode": {
    "name": "ipython",
    "version": 3
   },
   "file_extension": ".py",
   "mimetype": "text/x-python",
   "name": "python",
   "nbconvert_exporter": "python",
   "pygments_lexer": "ipython3",
   "version": "3.7.6"
  }
 },
 "nbformat": 4,
 "nbformat_minor": 4
}
